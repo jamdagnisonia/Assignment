{
 "cells": [
  {
   "cell_type": "markdown",
   "id": "dd25ff0a-67c7-44ee-b590-845bfa43ec90",
   "metadata": {},
   "source": [
    "# Question1:"
   ]
  },
  {
   "cell_type": "markdown",
   "id": "a801de25-4fe1-4527-aaaa-4e79c5682cdb",
   "metadata": {},
   "source": [
    "Python is a popular programming language.\n",
    "It was created by Guido van Rossum, and released in 1991.\n",
    "\n"
   ]
  },
  {
   "cell_type": "markdown",
   "id": "af6a1616-f604-4d5f-9b75-4136393120c7",
   "metadata": {},
   "source": [
    "# Question2:"
   ]
  },
  {
   "cell_type": "markdown",
   "id": "11887531-df74-496e-8904-bebb2674c03b",
   "metadata": {},
   "source": [
    " Python is an interpreted, interactive, object-oriented programming language."
   ]
  },
  {
   "cell_type": "markdown",
   "id": "a78e8489-3d9b-4e7e-b1b0-ebcf6d213df0",
   "metadata": {},
   "source": [
    "# Question 3:"
   ]
  },
  {
   "cell_type": "markdown",
   "id": "c3428e07-06a6-4005-87c3-3c9c7b97f34b",
   "metadata": {},
   "source": [
    "YES,python is case sensitive when Dealing with Identifires."
   ]
  },
  {
   "cell_type": "markdown",
   "id": "d1649dea-68f4-4c2c-bad5-1c5ee1de7c0e",
   "metadata": {},
   "source": [
    "# Question4:"
   ]
  },
  {
   "cell_type": "markdown",
   "id": "588924b3-3130-4b3b-89b7-14cbdec621ee",
   "metadata": {},
   "source": [
    "# .py\n",
    "The extensions for Python files are - . py"
   ]
  },
  {
   "cell_type": "markdown",
   "id": "8a7cf37d-0513-4731-b402-388db3cf824e",
   "metadata": {},
   "source": [
    "# Question5:"
   ]
  },
  {
   "cell_type": "markdown",
   "id": "c9f03786-cad9-4a87-8b30-8fb215b72ef4",
   "metadata": {},
   "source": [
    "Python is an interpreted language, which means the source code of a Python program is converted into bytecode that is then executed by the Python virtual machine. "
   ]
  },
  {
   "cell_type": "markdown",
   "id": "094e6321-aa3f-424e-a7bd-c0b76c6a3d30",
   "metadata": {},
   "source": [
    "# Question6:"
   ]
  },
  {
   "cell_type": "code",
   "execution_count": 1,
   "id": "fcc142bb-46aa-4562-b68e-bdf5197eae5d",
   "metadata": {},
   "outputs": [
    {
     "name": "stdout",
     "output_type": "stream",
     "text": [
      "Addition: 7\n"
     ]
    }
   ],
   "source": [
    "x=5\n",
    "y=2\n",
    "print(\"Addition:\",x+y)"
   ]
  },
  {
   "cell_type": "markdown",
   "id": "568f78dc-211b-430e-a7fb-f278ae811b25",
   "metadata": {},
   "source": [
    "# Question7:"
   ]
  },
  {
   "cell_type": "markdown",
   "id": "d43bd456-8732-4e33-8d39-62c226630454",
   "metadata": {},
   "source": [
    "# Single line comment:"
   ]
  },
  {
   "cell_type": "markdown",
   "id": "7524b217-6bf7-4daa-bbea-b25e8fd9deac",
   "metadata": {},
   "source": [
    " We can write a single-line comment by adding a single # character before any statement or line of code."
   ]
  },
  {
   "cell_type": "code",
   "execution_count": 2,
   "id": "8d2ef80a-7b10-40d3-bf46-f7fa80b9a007",
   "metadata": {},
   "outputs": [
    {
     "name": "stdout",
     "output_type": "stream",
     "text": [
      "Hello world\n"
     ]
    }
   ],
   "source": [
    "# This is a Comment\n",
    "print(\"Hello world\")"
   ]
  },
  {
   "cell_type": "markdown",
   "id": "0e4dbbaa-aa69-40ad-9cda-0c47a37985a9",
   "metadata": {},
   "source": [
    "# Question 8:"
   ]
  },
  {
   "cell_type": "markdown",
   "id": "7b6c6c01-5956-412d-8c7b-372371bdcc56",
   "metadata": {},
   "source": [
    "The function sys. version can help us to find the version of python that we are currently working on. It also contains information on the build number and compiler used."
   ]
  },
  {
   "cell_type": "code",
   "execution_count": 3,
   "id": "1517b575-4016-4c06-ab6d-675f5124aef2",
   "metadata": {},
   "outputs": [
    {
     "data": {
      "text/plain": [
       "'3.10.8 | packaged by conda-forge | (main, Nov 22 2022, 08:26:04) [GCC 10.4.0]'"
      ]
     },
     "execution_count": 3,
     "metadata": {},
     "output_type": "execute_result"
    }
   ],
   "source": [
    "# 1st import sys module\n",
    "import sys\n",
    "sys. version"
   ]
  },
  {
   "cell_type": "markdown",
   "id": "14073365-5c72-45f7-bb27-825e46914ea6",
   "metadata": {},
   "source": [
    "# Question 9:"
   ]
  },
  {
   "cell_type": "markdown",
   "id": "47dd4488-8742-4105-9f6b-17a38f02dc35",
   "metadata": {},
   "source": [
    "Python supports the creation of anonymous functions (i.e. functions that are not bound to a name) at runtime, using a construct called lambda. Lambda functions are restricted to a single expression."
   ]
  },
  {
   "cell_type": "code",
   "execution_count": 4,
   "id": "2f72ffc3-a3dd-4d51-9574-24d8ac544469",
   "metadata": {},
   "outputs": [
    {
     "name": "stdout",
     "output_type": "stream",
     "text": [
      "15\n"
     ]
    }
   ],
   "source": [
    "x = lambda a : a + 10\n",
    "print(x(5))"
   ]
  },
  {
   "cell_type": "markdown",
   "id": "fb30f962-1aaf-4757-8ae5-1151a6b981d4",
   "metadata": {},
   "source": [
    "# Question10:"
   ]
  },
  {
   "cell_type": "markdown",
   "id": "5ebb1ad1-1db0-4b51-bb4b-a1a92a7f99d7",
   "metadata": {},
   "source": [
    "\n",
    "PIP is a package management system used to install and manage software packages written in Python.\n",
    "      It stands for “preferred installer program” or “Pip Installs Packages.”\n",
    "      PIP for Python is a utility to manage PyPI package installations from the command line."
   ]
  },
  {
   "cell_type": "markdown",
   "id": "b4679d1f-bed6-4348-be15-0e8adc24b77e",
   "metadata": {},
   "source": [
    "# Question 11:\n"
   ]
  },
  {
   "cell_type": "markdown",
   "id": "9fcbd4fe-9fe4-4235-8761-02f5891d77c1",
   "metadata": {},
   "source": [
    "len()-\tReturns the length of an object.      \n",
    "\n",
    "list()-\tReturns a list.       \n",
    "\n",
    "locals()- Returns an updated dictionary of the current local symbol table.      \n",
    "\n",
    "map()-\tReturns the specified iterator with the specified function applied to each item.      \n",
    "\n",
    "max()-\tReturns the largest item in an iterable.      \n",
    "\n",
    "pow()- Returns the value of x to the power of y.      \n",
    " \n",
    "print()- Prints to the standard output device.    \n",
    "\n",
    "property()-\tGets, sets, deletes a property.    \n",
    "\n",
    "range()- Returns a sequence of numbers, starting from 0 and increments by 1 (by default).    \n"
   ]
  },
  {
   "cell_type": "markdown",
   "id": "ee34c892-f476-44f7-921c-61d1e1f3f7b9",
   "metadata": {},
   "source": [
    "# Question 12:"
   ]
  },
  {
   "cell_type": "markdown",
   "id": "13e8908b-369a-43c9-ad32-7a0e3053ab24",
   "metadata": {},
   "source": [
    "An identifier can have a maximum length of 79 characters in Python."
   ]
  },
  {
   "cell_type": "markdown",
   "id": "832f262e-fcde-4d4d-908f-9a2b5fa23196",
   "metadata": {
    "tags": []
   },
   "source": [
    "# Question13:"
   ]
  },
  {
   "cell_type": "markdown",
   "id": "298bf287-581a-40d7-8338-34ddfed39f6b",
   "metadata": {},
   "source": [
    "# Beniftis of using Python:\n",
    ".Simple to Use and Understand-\n",
    "\n",
    " Python is simple to understand and use. It's a highly developed programming language with an English-like syntax. \n",
    "\n",
    "2.Free and Open-Source-\n",
    "\n",
    "Python is distributed under an open-source license approved by the Open-Source Initiative (OSI). \n",
    "\n",
    "3.Productivity has Increased-\n",
    "\n",
    "Users can create new kinds of applications using the Python programming language. Because of its versatility, this language permits the operator to try new things. \n",
    "\n",
    "4.Interpreted Language-\n",
    "\n",
    "It is an interpreted language, implying that the code is implemented line by line. \n",
    "\n",
    "5.used in many field-\n",
    "\n",
    "Data science,\n",
    "Scientific and mathematical computing,\n",
    "Web development,\n",
    "Finance and trading,\n",
    "System automation and administration,\n",
    "Computer graphics,\n",
    "Basic game development,\n",
    "Security and penetration testing."
   ]
  },
  {
   "cell_type": "markdown",
   "id": "48b5a588-548e-4941-b821-c6fc39dbede0",
   "metadata": {},
   "source": [
    "# Question14:"
   ]
  },
  {
   "cell_type": "markdown",
   "id": "7bd755e2-cbad-4de1-b215-bf615c019a36",
   "metadata": {},
   "source": [
    "Python uses a portion of the memory for internal use and non-object memory. Another part of the memory is used for Python object such as int, dict, list, etc.\n",
    "\n",
    "Python contains the object allocator that allocates memory within the object area. The object allocator gets a call every time the new object needs space. \n",
    "\n",
    "\n",
    "Common Ways to Reduce the Space Complexity:    \n",
    "\n",
    "1.Avoid List Slicing.   \n",
    "\n",
    "2.Use List Indexing Carefully.\n",
    "\n",
    "3.String Concatenation.\n",
    "\n",
    "4.Use Iterators and Generators.\n"
   ]
  },
  {
   "cell_type": "markdown",
   "id": "ecd539b2-3831-43c9-96bd-4bb960666a84",
   "metadata": {},
   "source": [
    "# Question15:"
   ]
  },
  {
   "cell_type": "markdown",
   "id": "27e543fd-26fe-4894-b9ce-9a214e247335",
   "metadata": {},
   "source": [
    "Step 1 — Downloading the Python Installer.\n",
    "\n",
    "Step 2 — Running the Executable Installer.\n",
    "\n",
    "Step 3 — Adding Python to the Environment Variables (optional):\n",
    "\n",
    "Skip this step if you selected Add Python to environment variables during installation.\n",
    "If you want to access Python through the command line but you didn’t add Python to your environment variables during installation, then you can still do it manually.\n",
    "\n",
    "Step 4 — Verify the Python Installation:\n",
    "\n",
    "You can verify whether the Python installation is successful either through the command line or through the Integrated Development Environment (IDLE) application, if you chose to install it.\n",
    "\n",
    "Go to Start and enter cmd in the search bar. Click Command Prompt.\n",
    "\n",
    "Enter the following command in the command prompt:\n",
    "\n",
    "python --version\n",
    "\n",
    "\n",
    "# Path variable:\n",
    "The PATH variable is a list of directories where each directory contains the executable file for a command."
   ]
  },
  {
   "cell_type": "markdown",
   "id": "335769cc-4e65-4a92-8ac6-81e5a4f0bb3e",
   "metadata": {},
   "source": [
    "# Question16:"
   ]
  },
  {
   "cell_type": "markdown",
   "id": "ee88f728-4a7c-44fa-8c8d-415801957438",
   "metadata": {},
   "source": [
    "yes,Indentation is required in python.because without use of proper Indentation create a error."
   ]
  },
  {
   "cell_type": "code",
   "execution_count": 5,
   "id": "ed1e44fa-f3f8-48da-9b14-a54ebe53b0a3",
   "metadata": {},
   "outputs": [
    {
     "ename": "IndentationError",
     "evalue": "unexpected indent (2515265616.py, line 5)",
     "output_type": "error",
     "traceback": [
      "\u001b[0;36m  Cell \u001b[0;32mIn[5], line 5\u001b[0;36m\u001b[0m\n\u001b[0;31m    print(i)\u001b[0m\n\u001b[0m    ^\u001b[0m\n\u001b[0;31mIndentationError\u001b[0m\u001b[0;31m:\u001b[0m unexpected indent\n"
     ]
    }
   ],
   "source": [
    "# Withoust Indentation:\n",
    "\n",
    "\n",
    "i=2\n",
    "  print(i)"
   ]
  },
  {
   "cell_type": "code",
   "execution_count": null,
   "id": "9d51b64e-ca45-40c9-ac81-a6087c3a91a6",
   "metadata": {},
   "outputs": [],
   "source": [
    "#  With Indentattion:\n",
    "\n",
    "i=2\n",
    "print(i)"
   ]
  },
  {
   "cell_type": "code",
   "execution_count": null,
   "id": "9d7ffc66-d001-4655-ad67-9311c1904aa5",
   "metadata": {},
   "outputs": [],
   "source": []
  }
 ],
 "metadata": {
  "kernelspec": {
   "display_name": "Python 3 (ipykernel)",
   "language": "python",
   "name": "python3"
  },
  "language_info": {
   "codemirror_mode": {
    "name": "ipython",
    "version": 3
   },
   "file_extension": ".py",
   "mimetype": "text/x-python",
   "name": "python",
   "nbconvert_exporter": "python",
   "pygments_lexer": "ipython3",
   "version": "3.10.8"
  }
 },
 "nbformat": 4,
 "nbformat_minor": 5
}
