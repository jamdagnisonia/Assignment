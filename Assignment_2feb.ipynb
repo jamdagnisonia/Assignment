{
 "cells": [
  {
   "cell_type": "markdown",
   "id": "28d26631-a4fc-413a-9ce7-2e72eae08658",
   "metadata": {},
   "source": [
    "# question 1"
   ]
  },
  {
   "cell_type": "markdown",
   "id": "be7571fd-f0cf-4e33-9a4b-9d552d1a3769",
   "metadata": {},
   "source": [
    "# FOR Loop-\n",
    "            It is used when  the number of iterations is known.\n",
    "            The loop runs infinite times in the absance of condition.\n",
    "            To iterate, the range functon is used.\n",
    "            \n",
    "# Syntax:\n",
    "\n",
    "          for(initializaion;condition;increment){\n",
    "         \n",
    "         }\n",
    "         \n",
    "         \n",
    "              "
   ]
  },
  {
   "cell_type": "code",
   "execution_count": 1,
   "id": "ef73ed51-83fc-4a2e-bcb9-8feecc5c24b8",
   "metadata": {},
   "outputs": [
    {
     "name": "stdout",
     "output_type": "stream",
     "text": [
      "1\n",
      "9\n",
      "25\n",
      "49\n"
     ]
    }
   ],
   "source": [
    "# In this example we show the square of odd nmbers with the help of for loop\n",
    "#store a list in numbers variable\n",
    "numbers=[1,3,5,7]\n",
    "for i in numbers:\n",
    "    print(i**2)"
   ]
  },
  {
   "cell_type": "code",
   "execution_count": 2,
   "id": "643f5139-8e12-4892-afa9-71f1384fb2ff",
   "metadata": {},
   "outputs": [
    {
     "name": "stdout",
     "output_type": "stream",
     "text": [
      "[2]\n",
      "[2, 6]\n",
      "[2, 6, 10]\n",
      "[2, 6, 10, 14]\n"
     ]
    }
   ],
   "source": [
    "numbers=[1,3,5,7]\n",
    "result=[]\n",
    "for i in numbers:\n",
    "    result.append(i*2)\n",
    "    print(result)"
   ]
  },
  {
   "cell_type": "code",
   "execution_count": 3,
   "id": "5febe473-222c-4e61-83b4-d5a1399fcfd1",
   "metadata": {},
   "outputs": [
    {
     "name": "stdout",
     "output_type": "stream",
     "text": [
      "[1]\n",
      "[1, 4]\n",
      "[1, 4, 9]\n",
      "[1, 4, 9, 16]\n",
      "[1, 4, 9, 16, 25]\n",
      "[1, 4, 9, 16, 25, 36]\n"
     ]
    }
   ],
   "source": [
    "# store a numbers 1 to 6 in list\n",
    "numbers=[1,2,3,4,5,6]\n",
    "# used result variable to store the final result \n",
    "result=[]\n",
    "# used for loop \n",
    "for i in numbers:\n",
    "    result.append(i**2)        \n",
    "    print(result)"
   ]
  },
  {
   "cell_type": "markdown",
   "id": "7f71a0ac-221f-4b7f-b6e3-26bb21c246b3",
   "metadata": {},
   "source": [
    "# WHILE Loop-\n",
    "            It is used when thw number of iteration is unknown.\n",
    "            While loop return the compile time error in the absance of condition.\n",
    "            There is no such function in the while loop.\n",
    "            \n",
    "\n",
    "# Syntax:\n",
    "\n",
    "         while(condition){\n",
    "              statement\n",
    "         }"
   ]
  },
  {
   "cell_type": "code",
   "execution_count": 4,
   "id": "6c320954-1973-40fe-a66b-959670d23ec0",
   "metadata": {},
   "outputs": [
    {
     "name": "stdout",
     "output_type": "stream",
     "text": [
      "1\n",
      "2\n",
      "3\n",
      "4\n",
      "done\n"
     ]
    }
   ],
   "source": [
    "x=1\n",
    "while x<5:\n",
    "    print(x)\n",
    "    x = x+1\n",
    "else:  \n",
    "    print(\"done\")"
   ]
  },
  {
   "cell_type": "markdown",
   "id": "fec993ac-6b64-4a78-a9e3-0b2d5922c647",
   "metadata": {},
   "source": [
    "# question 2"
   ]
  },
  {
   "cell_type": "markdown",
   "id": "db00143f-1119-4403-8f59-81f6b39621eb",
   "metadata": {},
   "source": [
    "# Using for loop"
   ]
  },
  {
   "cell_type": "code",
   "execution_count": 5,
   "id": "660a33cd-d163-40fa-8ef8-d6d5943bcb2c",
   "metadata": {},
   "outputs": [
    {
     "name": "stdout",
     "output_type": "stream",
     "text": [
      "sum of first 10 naturan numbers: 55\n",
      "product of first 10 naturan numbers: 3628800\n"
     ]
    }
   ],
   "source": [
    "numbers=10\n",
    "sum=0\n",
    "product= 1\n",
    "for i in range(1,numbers+1):\n",
    "    sum = sum+i  \n",
    "print(\"sum of first 10 naturan numbers:\",sum)\n",
    "for j in range(1,numbers+1):\n",
    "    product=product*j\n",
    "print(\"product of first 10 naturan numbers:\",product)\n",
    "    "
   ]
  },
  {
   "cell_type": "markdown",
   "id": "daff3da5-a99c-441d-a120-abfd7cdba4bc",
   "metadata": {},
   "source": [
    "# Using while loop"
   ]
  },
  {
   "cell_type": "code",
   "execution_count": 6,
   "id": "2a9d6f92-b13d-4dc1-850d-c226343cf4a6",
   "metadata": {},
   "outputs": [
    {
     "name": "stdout",
     "output_type": "stream",
     "text": [
      "sum of first 10 naturan numbers: 55\n"
     ]
    }
   ],
   "source": [
    "n=10\n",
    "i=1\n",
    "sum=0\n",
    "while i<=n:\n",
    "    sum= sum+i\n",
    "    i=i+1\n",
    "print(\"sum of first 10 naturan numbers:\",sum)    \n",
    "\n"
   ]
  },
  {
   "cell_type": "code",
   "execution_count": 7,
   "id": "c76fc508-b3c7-4056-aea1-4f7c75e98143",
   "metadata": {},
   "outputs": [
    {
     "name": "stdout",
     "output_type": "stream",
     "text": [
      "product of first 10 naturan numbers: 3628800\n"
     ]
    }
   ],
   "source": [
    "n=10\n",
    "j=1\n",
    "result=1\n",
    "while j<=n:\n",
    "    result=result*j\n",
    "    j=j+1\n",
    "print(\"product of first 10 naturan numbers:\",result)    "
   ]
  },
  {
   "cell_type": "markdown",
   "id": "2ddc3973-c469-49f4-88f4-661d973e3ac7",
   "metadata": {},
   "source": [
    "# queston 3\n"
   ]
  },
  {
   "cell_type": "code",
   "execution_count": 8,
   "id": "f6022320-56fa-4e1b-a15a-8df358c35c4d",
   "metadata": {},
   "outputs": [
    {
     "name": "stdin",
     "output_type": "stream",
     "text": [
      "enter unit of electricity consumed in a month 310\n"
     ]
    },
    {
     "name": "stdout",
     "output_type": "stream",
     "text": [
      "Total units: 2250.0\n"
     ]
    }
   ],
   "source": [
    "n=int(input(\"enter unit of electricity consumed in a month\"))\n",
    "total=0\n",
    "\n",
    "if n<=100:\n",
    "    total= n*4.5\n",
    "elif n>100 and n<=200:\n",
    "    total=(100*4.5)+((200-100)*6)\n",
    "else:\n",
    "    total=(100*4.5)+((200-100)*6)+((300-200)*10)+((n-300)*20)\n",
    "print(\"Total units:\",total)    \n",
    "        "
   ]
  },
  {
   "cell_type": "markdown",
   "id": "89b4ec49-cbc4-4ea6-827b-a8a5962ecb97",
   "metadata": {},
   "source": [
    "# question 4"
   ]
  },
  {
   "cell_type": "code",
   "execution_count": 9,
   "id": "be0d72b6-bd2f-4f6b-9b87-7c758ed04c2b",
   "metadata": {},
   "outputs": [
    {
     "name": "stdout",
     "output_type": "stream",
     "text": [
      "[20, 40, 60, 80, 100]\n"
     ]
    }
   ],
   "source": [
    "list=[]\n",
    "i=1\n",
    "for i in range(1,101):\n",
    "    if i%4==0 and i%5==0:\n",
    "        list.append(i)\n",
    "    \n",
    "print(list)   "
   ]
  },
  {
   "cell_type": "markdown",
   "id": "d3e35ade-a52b-4475-a3be-eac880ef3eba",
   "metadata": {},
   "source": [
    "# question 5\n"
   ]
  },
  {
   "cell_type": "code",
   "execution_count": 15,
   "id": "963a1cd7-db12-42d6-9082-23f108bfb812",
   "metadata": {},
   "outputs": [
    {
     "name": "stdout",
     "output_type": "stream",
     "text": [
      "Total numbers of vowels in a string1: 12\n"
     ]
    }
   ],
   "source": [
    "string1=\"i want to become a data scientist\"\n",
    "count=0\n",
    "i=0\n",
    "for i in range(len(string1)):\n",
    "    if(\n",
    "        (string1[i]==\"a\")\n",
    "        or (string1[i]==\"e\")\n",
    "        or (string1[i]==\"i\")\n",
    "        or (string1[i]==\"o\")\n",
    "        or (string1[i]==\"u\")\n",
    "    ):\n",
    "        count +=1\n",
    "print(\"Total numbers of vowels in a string1:\",count)    "
   ]
  },
  {
   "cell_type": "code",
   "execution_count": null,
   "id": "8e1f35fa-fa07-4e35-a6bd-81b67b936d0c",
   "metadata": {},
   "outputs": [],
   "source": []
  }
 ],
 "metadata": {
  "kernelspec": {
   "display_name": "Python 3 (ipykernel)",
   "language": "python",
   "name": "python3"
  },
  "language_info": {
   "codemirror_mode": {
    "name": "ipython",
    "version": 3
   },
   "file_extension": ".py",
   "mimetype": "text/x-python",
   "name": "python",
   "nbconvert_exporter": "python",
   "pygments_lexer": "ipython3",
   "version": "3.10.8"
  }
 },
 "nbformat": 4,
 "nbformat_minor": 5
}
