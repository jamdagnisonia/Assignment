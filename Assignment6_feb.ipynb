{
 "cells": [
  {
   "cell_type": "markdown",
   "id": "274dd33c-a54b-4caf-a5ba-a4b329853493",
   "metadata": {},
   "source": [
    "# Question 1:"
   ]
  },
  {
   "cell_type": "code",
   "execution_count": 20,
   "id": "5e100c54-11a4-46f0-a3d4-d2c57cdaa49a",
   "metadata": {},
   "outputs": [],
   "source": [
    "lst = [1,2,3,4, [44,55,66, True], False, (34,56,78,89,34), {1,2,3,3,2,1}, {1:34, \"key2\": [55, 67, 78, 89], 4: (45,\n",
    "22, 61, 34)}, [56, 'data science'], 'Machine Learning']\n",
    "def prod_list(lst):\n",
    "    global flat_list\n",
    "    flat_list = []\n",
    "    for i in lst: \n",
    "\n",
    "        # check if element is list or number \n",
    "         if type(i) == list or type(i) == tuple or type(i) == set or type(i) == dict: \n",
    "        # iterate over each nested list \n",
    "             for j in i: \n",
    "            # check if element is number \n",
    "                if type(j) == int or type(j) == float: \n",
    "                    flat_list.append(j) \n",
    "                elif type(j) == dict:\n",
    "                    for k,v in j.items():\n",
    "                        if type(v) == int or type(v) == float:\n",
    "                            flat_list.append(v)\n",
    "\n",
    "                elif type(j) == list or type(j) == tuple:\n",
    "                     for k in j:\n",
    "                        if type(k) == int or type(k) == float:\n",
    "                            flat_list.append(k)\n",
    "    else: \n",
    "        # check if element is number \n",
    "        if type(i) == int or type(i) == float: \n",
    "            flat_list.append(i) \n",
    "\n",
    "        # calculate product of list \n",
    "        return(flat_list)\n",
    "    "
   ]
  },
  {
   "cell_type": "code",
   "execution_count": 19,
   "id": "dfe93548-7fe4-42a6-b664-c7c57f899957",
   "metadata": {},
   "outputs": [
    {
     "data": {
      "text/plain": [
       "[44, 55, 66, 34, 56, 78, 89, 34, 1, 2, 3, 1, 4, 56]"
      ]
     },
     "execution_count": 19,
     "metadata": {},
     "output_type": "execute_result"
    }
   ],
   "source": [
    "prod_list(lst)"
   ]
  },
  {
   "cell_type": "markdown",
   "id": "84cda00b-5919-4e41-a99f-f1a1c3b541e2",
   "metadata": {},
   "source": [
    "# Question2:"
   ]
  },
  {
   "cell_type": "code",
   "execution_count": 9,
   "id": "82124352-5a31-47dd-b315-0ecdaf60b330",
   "metadata": {},
   "outputs": [
    {
     "name": "stdout",
     "output_type": "stream",
     "text": [
      "gsigmvixs$zgzd$z$vmlxvy$lg$gmzd$iaca\n"
     ]
    }
   ],
   "source": [
    "# for a-z,b-y,c-x,respecvily\n",
    "# whitespace-$\n",
    "# Create an input field\n",
    "\n",
    "encrypt= \"I want to become a Data Scientist\"\n",
    "# Create a dictionary to store keys\n",
    "# and values\n",
    "dict = {\"a\": \"z\", \"b\": \"y\",\n",
    "        \"c\": \"x\", \"D\": \"W\",\n",
    "        \"e\": \"v\",\"I\":\"R\",\"m\":\"n\",\"n\":\"m\",\"o\":\"l\",\n",
    "        \"S\":\"H\",\"t\":\"g\",\"w\":\"D\",\" \":\"$\"}\n",
    "num= encrypt[::-1]\n",
    "for i in dict:\n",
    "    num = num.replace(i,dict[i]).lower()\n",
    "\n",
    "print(f\"{num}aca\")  \n"
   ]
  },
  {
   "cell_type": "code",
   "execution_count": null,
   "id": "869321e7-c0b3-4be4-86dc-c50b7648108b",
   "metadata": {},
   "outputs": [],
   "source": []
  }
 ],
 "metadata": {
  "kernelspec": {
   "display_name": "Python 3 (ipykernel)",
   "language": "python",
   "name": "python3"
  },
  "language_info": {
   "codemirror_mode": {
    "name": "ipython",
    "version": 3
   },
   "file_extension": ".py",
   "mimetype": "text/x-python",
   "name": "python",
   "nbconvert_exporter": "python",
   "pygments_lexer": "ipython3",
   "version": "3.10.8"
  }
 },
 "nbformat": 4,
 "nbformat_minor": 5
}
