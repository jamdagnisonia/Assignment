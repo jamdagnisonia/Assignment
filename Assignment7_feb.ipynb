{
 "cells": [
  {
   "cell_type": "markdown",
   "id": "7b3ac887-4072-4f52-a5cc-cdc017b9a75a",
   "metadata": {},
   "source": [
    "# Question1:"
   ]
  },
  {
   "cell_type": "code",
   "execution_count": 1,
   "id": "52d7b9ea-81d9-4dbd-84ff-f6e1f927a4e7",
   "metadata": {},
   "outputs": [
    {
     "name": "stdout",
     "output_type": "stream",
     "text": [
      "Valid Password\n"
     ]
    }
   ],
   "source": [
    "# at least 2 upercase and 2 lowercase\n",
    "# atleast a number and 3 special character\n",
    "# length should be 10 character long\n",
    "\n",
    "\n",
    "l, u, p, d = 0, 0, 0, 0\n",
    "s = \"RAH@m@_f0rtu9e$\"\n",
    "if (len(s) >= 10):\n",
    "    for i in s:\n",
    " \n",
    "        # counting lowercase alphabets\n",
    "        if (i.islower()):\n",
    "            l+=1           \n",
    " \n",
    "        # counting uppercase alphabets\n",
    "        if (i.isupper()):\n",
    "            u+=1           \n",
    " \n",
    "        # counting digits\n",
    "        if (i.isdigit()):\n",
    "            d+=1           \n",
    " \n",
    "        # counting the mentioned special characters\n",
    "        if(i=='@'or i=='$' or i=='_'):\n",
    "            p+=1          \n",
    "if (l>=1 and u>=1 and p>=1 and d>=1 and l+p+u+d==len(s)):\n",
    "    print(\"Valid Password\")\n",
    "else:\n",
    "    print(\"Invalid Password\")    "
   ]
  },
  {
   "cell_type": "markdown",
   "id": "5908b37b-870a-414c-bb7c-146a914901c1",
   "metadata": {},
   "source": [
    "# Question2:"
   ]
  },
  {
   "cell_type": "code",
   "execution_count": 2,
   "id": "187b3039-9f0e-4324-b13e-ef9f977de7eb",
   "metadata": {},
   "outputs": [
    {
     "name": "stdout",
     "output_type": "stream",
     "text": [
      "True\n",
      "False\n"
     ]
    }
   ],
   "source": [
    "#Check if the string starts with a particular letter\n",
    "# Using lambda function\n",
    "starts_with = lambda x: True if x.startswith('P') else False\n",
    "print(starts_with('Python'))\n",
    "starts_with = lambda x: True if x.startswith('P') else False\n",
    "print(starts_with('Java'))"
   ]
  },
  {
   "cell_type": "code",
   "execution_count": 3,
   "id": "b3458763-2675-4c41-8f7a-a7ca1a66ddf7",
   "metadata": {},
   "outputs": [
    {
     "name": "stdout",
     "output_type": "stream",
     "text": [
      "True\n",
      "True\n",
      "False\n",
      "True\n",
      "False\n",
      "True\n",
      "\n",
      "Print checking numbers:\n",
      "True\n",
      "True\n"
     ]
    }
   ],
   "source": [
    "#Check if the string is numeric\n",
    "is_num = lambda q: q.replace('.','',1).isdigit()\n",
    "print(is_num('26587'))\n",
    "print(is_num('4.2365'))\n",
    "print(is_num('-12547'))\n",
    "print(is_num('00'))\n",
    "print(is_num('A001'))\n",
    "print(is_num('001'))\n",
    "print(\"\\nPrint checking numbers:\")\n",
    "is_num1 = lambda r: is_num(r[1:]) if r[0]=='-' else is_num(r)\n",
    "print(is_num1('-16.4'))\n",
    "print(is_num1('-24587.11'))"
   ]
  },
  {
   "cell_type": "code",
   "execution_count": 4,
   "id": "9dba641c-e223-4835-b5b3-9686d8d9fd8f",
   "metadata": {},
   "outputs": [
    {
     "name": "stdout",
     "output_type": "stream",
     "text": [
      "[('orange', 80), ('mango', 99), ('grapes', 1000)]\n"
     ]
    }
   ],
   "source": [
    "# Python program to sort a list of\n",
    "# tuples by the second Item using sort()\n",
    " \n",
    "# Function to sort the list by second item of tuple\n",
    "def Sort_Tuple(tup):\n",
    " \n",
    "    # reverse = None (Sorts in Ascending order)\n",
    "    # key is set to sort using second element of\n",
    "    # sublist lambda has been used\n",
    "    tup.sort(key = lambda x: x[1])\n",
    "    return tup\n",
    " \n",
    "# Driver Code\n",
    "tup = [(\"mango\",99),(\"orange\",80), (\"grapes\", 1000)]\n",
    "# printing the sorted list of tuples\n",
    "print(Sort_Tuple(tup))"
   ]
  },
  {
   "cell_type": "code",
   "execution_count": 5,
   "id": "c17bcc14-b409-4509-a743-8b79e6a61a71",
   "metadata": {},
   "outputs": [
    {
     "data": {
      "text/plain": [
       "[1, 4, 9, 16, 25, 36, 49, 64, 81]"
      ]
     },
     "execution_count": 5,
     "metadata": {},
     "output_type": "execute_result"
    }
   ],
   "source": [
    "# square of number 1 to 10\n",
    "# use map function\n",
    "\t\n",
    "list(map(lambda x: x**2, range(1,10)))"
   ]
  },
  {
   "cell_type": "code",
   "execution_count": 6,
   "id": "2ae36b9f-27e0-4715-932a-b936a2614988",
   "metadata": {},
   "outputs": [
    {
     "data": {
      "text/plain": [
       "[1, 8, 27, 64, 125, 216, 343, 512, 729]"
      ]
     },
     "execution_count": 6,
     "metadata": {},
     "output_type": "execute_result"
    }
   ],
   "source": [
    "#Find the cube root of numbers from 1 to 10\n",
    "list(map(lambda x: x**3, range(1,10)))\n"
   ]
  },
  {
   "cell_type": "code",
   "execution_count": 7,
   "id": "9cf33d95-db72-4717-85f8-2fdcc4a4ccbb",
   "metadata": {},
   "outputs": [
    {
     "name": "stdin",
     "output_type": "stream",
     "text": [
      "Enter a number:  22\n"
     ]
    },
    {
     "name": "stdout",
     "output_type": "stream",
     "text": [
      "Even Number\n"
     ]
    }
   ],
   "source": [
    "#Check if a given number is even\n",
    "number = int(input(\"Enter a number: \"))\n",
    "odd_even = lambda : \"Even Number\" if number % 2 == 0 else \"Odd Number\"\n",
    "\n",
    "print(odd_even())"
   ]
  },
  {
   "cell_type": "code",
   "execution_count": 12,
   "id": "625fb2bf-b681-4e69-b352-997eb8a2387b",
   "metadata": {},
   "outputs": [
    {
     "name": "stdout",
     "output_type": "stream",
     "text": [
      "Original numbers in the list:  [1, 2, 3, 4, 5, 6, -1, -2, -3, -4, -5, 0]\n",
      "Positive numbers in the said list:  [1, 2, 3, 4, 5, 6, 0]\n",
      "Positive numbers in the said list:  [-1, -2, -3, -4, -5]\n"
     ]
    }
   ],
   "source": [
    "#Sort a list of integers into positive and negative integers lists.\n",
    "nums=[1,2,3,4,5,6,-1,-2,-3,-4,-5,0]\n",
    "print(\"Original numbers in the list: \",nums)\n",
    "new_nums = list(filter(lambda x: x >=0, nums))\n",
    "new_nums1 = list(filter(lambda x: x <0, nums))\n",
    "print(\"Positive numbers in the said list: \",new_nums)\n",
    "print(\"Positive numbers in the said list: \",new_nums1)\n"
   ]
  },
  {
   "cell_type": "code",
   "execution_count": null,
   "id": "e300d326-a2a7-4cc1-b103-8756b713867a",
   "metadata": {},
   "outputs": [],
   "source": []
  }
 ],
 "metadata": {
  "kernelspec": {
   "display_name": "Python 3 (ipykernel)",
   "language": "python",
   "name": "python3"
  },
  "language_info": {
   "codemirror_mode": {
    "name": "ipython",
    "version": 3
   },
   "file_extension": ".py",
   "mimetype": "text/x-python",
   "name": "python",
   "nbconvert_exporter": "python",
   "pygments_lexer": "ipython3",
   "version": "3.10.8"
  }
 },
 "nbformat": 4,
 "nbformat_minor": 5
}
